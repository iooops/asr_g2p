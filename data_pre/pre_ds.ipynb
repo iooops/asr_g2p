{
 "cells": [
  {
   "cell_type": "code",
   "execution_count": 1,
   "metadata": {},
   "outputs": [
    {
     "name": "stderr",
     "output_type": "stream",
     "text": [
      "/home/xingxing/anaconda3/envs/asr/lib/python3.10/site-packages/tqdm/auto.py:21: TqdmWarning: IProgress not found. Please update jupyter and ipywidgets. See https://ipywidgets.readthedocs.io/en/stable/user_install.html\n",
      "  from .autonotebook import tqdm as notebook_tqdm\n"
     ]
    }
   ],
   "source": [
    "import json, random, multiprocessing\n",
    "from tqdm import tqdm\n",
    "from datasets import Dataset\n",
    "import torchaudio"
   ]
  },
  {
   "cell_type": "code",
   "execution_count": 2,
   "metadata": {},
   "outputs": [],
   "source": [
    "\n",
    "def load_json(json_path):\n",
    "    with open(json_path, 'r') as file:\n",
    "        data = json.load(file)\n",
    "    return data\n",
    "\n",
    "# pair_list = load_json('./aishell3_list.json') + load_json('./thchs30_list.json')\n",
    "# random.shuffle(pair_list)\n",
    "pair_list = load_json('./biaobei_list.json')\n"
   ]
  },
  {
   "cell_type": "code",
   "execution_count": 4,
   "metadata": {},
   "outputs": [
    {
     "name": "stderr",
     "output_type": "stream",
     "text": [
      "100%|██████████| 9999/9999 [07:17<00:00, 22.83it/s]\n",
      "Saving the dataset (6/6 shards): 100%|██████████| 9999/9999 [00:01<00:00, 5047.29 examples/s]\n"
     ]
    }
   ],
   "source": [
    "def process_pair(pair):\n",
    "    audio_file = pair[0]\n",
    "    trans = pair[1]\n",
    "    text = ' '.join(pair[2])\n",
    "\n",
    "    audio, sr = torchaudio.load(audio_file)\n",
    "    resampled_audio = torchaudio.functional.resample(audio, sr, 16000)\n",
    "\n",
    "    return audio_file, trans, resampled_audio[0], text\n",
    "\n",
    "pair_dict = {'audio': [], 'text': [], 'path': [], 'trans': []}\n",
    "\n",
    "for p in tqdm(pair_list):\n",
    "    audio_file, trans, audio_data, text = process_pair(p)\n",
    "    pair_dict['audio'].append({'array': audio_data})\n",
    "    pair_dict['text'].append(text)\n",
    "    pair_dict['path'].append(audio_file)\n",
    "    pair_dict['trans'].append(trans)\n",
    "\n",
    "ds = Dataset.from_dict(pair_dict)\n",
    "# ds = ds.train_test_split(test_size=0.1)\n",
    "\n",
    "ds.save_to_disk('../ds_biaobei')\n"
   ]
  },
  {
   "cell_type": "code",
   "execution_count": null,
   "metadata": {},
   "outputs": [],
   "source": []
  }
 ],
 "metadata": {
  "kernelspec": {
   "display_name": "asr",
   "language": "python",
   "name": "python3"
  },
  "language_info": {
   "codemirror_mode": {
    "name": "ipython",
    "version": 3
   },
   "file_extension": ".py",
   "mimetype": "text/x-python",
   "name": "python",
   "nbconvert_exporter": "python",
   "pygments_lexer": "ipython3",
   "version": "3.10.14"
  }
 },
 "nbformat": 4,
 "nbformat_minor": 2
}
