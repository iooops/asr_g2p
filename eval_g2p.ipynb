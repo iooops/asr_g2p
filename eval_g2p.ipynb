{
 "cells": [
  {
   "cell_type": "code",
   "execution_count": 1,
   "metadata": {},
   "outputs": [
    {
     "name": "stderr",
     "output_type": "stream",
     "text": [
      "anaconda3/envs/asr/lib/python3.10/site-packages/tqdm/auto.py:21: TqdmWarning: IProgress not found. Please update jupyter and ipywidgets. See https://ipywidgets.readthedocs.io/en/stable/user_install.html\n",
      "  from .autonotebook import tqdm as notebook_tqdm\n"
     ]
    }
   ],
   "source": [
    "import json, re, os, shutil\n",
    "from pypinyin_dict.phrase_pinyin_data import large_pinyin\n",
    "from pypinyin_dict.pinyin_data import zdic\n",
    "large_pinyin.load()\n",
    "zdic.load()\n",
    "from pypinyin import pinyin, lazy_pinyin, Style\n",
    "from g2pM import G2pM\n",
    "from g2pw import G2PWConverter\n",
    "from datasets import load_metric, Dataset, load_dataset, load_from_disk\n",
    "from tqdm import tqdm"
   ]
  },
  {
   "cell_type": "code",
   "execution_count": 2,
   "metadata": {},
   "outputs": [],
   "source": [
    "\n",
    "ds = load_from_disk('./ds_biaobei')\n",
    "\n",
    "def prepare_dataset(batch):\n",
    "    del batch[\"audio\"]\n",
    "    return batch\n",
    "\n",
    "# ds_test = ds['test'].map(prepare_dataset, remove_columns=ds.column_names[\"train\"], num_proc=32)\n",
    "ds_test = ds.map(prepare_dataset, num_proc=32)\n"
   ]
  },
  {
   "cell_type": "code",
   "execution_count": 3,
   "metadata": {},
   "outputs": [],
   "source": [
    "def filter_punc(text):\n",
    "    return re.sub(r'[,.!?;:、。？！ 《》<>，。_…“”：（）；——]', '', text).replace(' ', '')"
   ]
  },
  {
   "cell_type": "code",
   "execution_count": 4,
   "metadata": {},
   "outputs": [],
   "source": [
    "tt_pairs = [d for d in ds_test]"
   ]
  },
  {
   "cell_type": "code",
   "execution_count": 5,
   "metadata": {},
   "outputs": [],
   "source": [
    "g2pm = G2pM()\n",
    "conv = G2PWConverter(style='pinyin', enable_non_tradional_chinese=True)"
   ]
  },
  {
   "cell_type": "code",
   "execution_count": 6,
   "metadata": {},
   "outputs": [
    {
     "data": {
      "text/plain": [
       "['ni3', 'hao3']"
      ]
     },
     "execution_count": 6,
     "metadata": {},
     "output_type": "execute_result"
    }
   ],
   "source": [
    "g2pm_py = g2pm('你好', tone=True)\n",
    "g2pm_py"
   ]
  },
  {
   "cell_type": "code",
   "execution_count": 7,
   "metadata": {},
   "outputs": [
    {
     "name": "stderr",
     "output_type": "stream",
     "text": [
      "100%|██████████| 9999/9999 [1:04:02<00:00,  2.60it/s]\n"
     ]
    }
   ],
   "source": [
    "results = {\n",
    "    'lpy_pred': [],\n",
    "    'g2pm_pred': [],\n",
    "    'g2pw_pred': [],\n",
    "    'gt': []\n",
    "}\n",
    "\n",
    "for d in tqdm(ds_test):\n",
    "    line_py = lazy_pinyin(filter_punc(d['trans']), style=Style.TONE3, tone_sandhi=True, neutral_tone_with_five=True)\n",
    "    # line_py = list(filter(lambda x: len(filter_punc(x)) == len(x), line_py))\n",
    "    g2pm_py = g2pm(filter_punc(d['trans']), tone=True)\n",
    "    # g2pm_py = list(filter(lambda x: len(filter_punc(x)) == len(x), g2pm_py))\n",
    "    g2pw_py = conv(filter_punc(d['trans']))[0]\n",
    "    g2pw_py = list(filter(lambda x: x != None, g2pw_py))\n",
    "    # print(line_py, gt_py)\n",
    "    results['lpy_pred'].append(' '.join(line_py))\n",
    "    results['g2pm_pred'].append(' '.join(g2pm_py))\n",
    "    results['g2pw_pred'].append(' '.join(g2pw_py))\n",
    "    results['gt'].append(d['text'])\n"
   ]
  },
  {
   "cell_type": "code",
   "execution_count": 8,
   "metadata": {},
   "outputs": [
    {
     "name": "stderr",
     "output_type": "stream",
     "text": [
      "/tmp/ipykernel_2003253/3559562851.py:1: FutureWarning: load_metric is deprecated and will be removed in the next major version of datasets. Use 'evaluate.load' instead, from the new library 🤗 Evaluate: https://huggingface.co/docs/evaluate\n",
      "  cer_metric = load_metric(\"cer\")\n",
      "anaconda3/envs/asr/lib/python3.10/site-packages/datasets/load.py:756: FutureWarning: The repository for cer contains custom code which must be executed to correctly load the metric. You can inspect the repository content at https://raw.githubusercontent.com/huggingface/datasets/2.18.0/metrics/cer/cer.py\n",
      "You can avoid this message in future by passing the argument `trust_remote_code=True`.\n",
      "Passing `trust_remote_code=True` will be mandatory to load this metric from the next major release of `datasets`.\n",
      "  warnings.warn(\n"
     ]
    },
    {
     "name": "stdout",
     "output_type": "stream",
     "text": [
      "0.015899770970087605\n",
      "0.024119867231903916\n",
      "0.01874162161092616\n"
     ]
    }
   ],
   "source": [
    "cer_metric = load_metric(\"cer\")\n",
    "print(cer_metric.compute(predictions=results['lpy_pred'], references=results['gt']))\n",
    "print(cer_metric.compute(predictions=results['g2pm_pred'], references=results['gt']))\n",
    "print(cer_metric.compute(predictions=results['g2pw_pred'], references=results['gt']))"
   ]
  },
  {
   "cell_type": "code",
   "execution_count": 9,
   "metadata": {},
   "outputs": [
    {
     "name": "stderr",
     "output_type": "stream",
     "text": [
      "anaconda3/envs/asr/lib/python3.10/site-packages/datasets/load.py:756: FutureWarning: The repository for wer contains custom code which must be executed to correctly load the metric. You can inspect the repository content at https://raw.githubusercontent.com/huggingface/datasets/2.18.0/metrics/wer/wer.py\n",
      "You can avoid this message in future by passing the argument `trust_remote_code=True`.\n",
      "Passing `trust_remote_code=True` will be mandatory to load this metric from the next major release of `datasets`.\n",
      "  warnings.warn(\n"
     ]
    },
    {
     "name": "stdout",
     "output_type": "stream",
     "text": [
      "0.0705785550247461\n",
      "0.1036019993368293\n",
      "0.07993663035602441\n"
     ]
    }
   ],
   "source": [
    "wer_metric = load_metric(\"wer\")\n",
    "print(wer_metric.compute(predictions=results['lpy_pred'], references=results['gt']))\n",
    "print(wer_metric.compute(predictions=results['g2pm_pred'], references=results['gt']))\n",
    "print(wer_metric.compute(predictions=results['g2pw_pred'], references=results['gt']))"
   ]
  },
  {
   "cell_type": "code",
   "execution_count": 10,
   "metadata": {},
   "outputs": [
    {
     "name": "stderr",
     "output_type": "stream",
     "text": [
      "100%|██████████| 9999/9999 [00:00<00:00, 37219.89it/s]\n"
     ]
    }
   ],
   "source": [
    "results['trans'] = []\n",
    "\n",
    "for d in tqdm(ds_test):\n",
    "    results['trans'].append(filter_punc(d['trans']))\n",
    "    "
   ]
  },
  {
   "cell_type": "code",
   "execution_count": 11,
   "metadata": {},
   "outputs": [],
   "source": [
    "def find_char_indexes(text, char):\n",
    "    return [i for i, c in enumerate(text) if c == char]"
   ]
  },
  {
   "cell_type": "code",
   "execution_count": 12,
   "metadata": {},
   "outputs": [
    {
     "data": {
      "text/plain": [
       "{'text': 'ka2 er2 pu3 pei2 wai4 sun1 wan2 hua2 ti1 ',\n",
       " 'trans': '卡尔普陪外孙玩滑梯。',\n",
       " 'pred_str': 'ka2 er2 pu3 pei2 wai4 sen1 wan2 hua2 ti1 '}"
      ]
     },
     "execution_count": 12,
     "metadata": {},
     "output_type": "execute_result"
    }
   ],
   "source": [
    "asr_ds4_pred = json.load(open('./asr_ds4_pred.json'))\n",
    "asr_ds4_pred[0]"
   ]
  },
  {
   "cell_type": "code",
   "execution_count": 13,
   "metadata": {},
   "outputs": [],
   "source": [
    "wlen_count = 0\n",
    "\n",
    "results_a_t = {\n",
    "    'trans': [],\n",
    "    'gt': [],\n",
    "    'pypy': [],\n",
    "    'pred_py': []\n",
    "}\n",
    "\n",
    "for i in range(len(ds_test)):\n",
    "    # for k in results:\n",
    "    trans, gt, asr_pred = results['trans'][i], results['gt'][i], asr_ds4_pred[i]['pred_str']\n",
    "    # print(trans, gt, lpy_pred)\n",
    "    gts = gt.split(' ')\n",
    "    asr_preds = asr_pred.strip().split(' ')\n",
    "    # print(len(trans), len(gts), len(lpy_preds))\n",
    "    try:\n",
    "        if len(trans) != len(asr_preds):\n",
    "            er_indexes = find_char_indexes(trans, '儿')\n",
    "            pp = 0\n",
    "            for r in er_indexes:\n",
    "                if r != 0:\n",
    "                    if asr_preds[r-1-pp][-2] == 'r' and asr_preds[r-1-pp][0] != 'e':\n",
    "                        pp += 1\n",
    "                        trans = trans[:r-pp] + trans[r-pp+1:]\n",
    "            # print(trans, er_indexes)\n",
    "    except Exception as e:\n",
    "        pass\n",
    "    if len(trans) != len(asr_preds):\n",
    "        wlen_count += 1\n",
    "    else:\n",
    "        # print(line_py)\n",
    "        pred_pys = []\n",
    "        assert len(asr_preds) == len(trans)\n",
    "        line_py = lazy_pinyin(trans, style=Style.TONE3, tone_sandhi=True, neutral_tone_with_five=True)\n",
    "        for i in range(len(asr_preds)):\n",
    "            polys = pinyin(trans[i], heteronym=True, style=Style.TONE3, neutral_tone_with_five=True)[0]\n",
    "            polys_wo_tone = [p[:-1] for p in polys]\n",
    "            if asr_preds[i][:-1] in polys_wo_tone or (asr_preds[i][-2] == 'r' and asr_preds[i][:-2] in polys_wo_tone):\n",
    "                pred_pys.append(asr_preds[i])\n",
    "            else:\n",
    "                pred_pys.append(line_py[i])\n",
    "        # print(pred_pys)\n",
    "        results_a_t['trans'].append(trans)\n",
    "        results_a_t['pypy'].append(' '.join(line_py))\n",
    "        results_a_t['gt'].append(gt)\n",
    "        results_a_t['pred_py'].append(' '.join(pred_pys))\n",
    "        \n",
    "# print(wlen_count)"
   ]
  },
  {
   "cell_type": "code",
   "execution_count": 14,
   "metadata": {},
   "outputs": [
    {
     "data": {
      "text/plain": [
       "0.0185018501850185"
      ]
     },
     "execution_count": 14,
     "metadata": {},
     "output_type": "execute_result"
    }
   ],
   "source": [
    "wlen_count / len(ds_test)"
   ]
  },
  {
   "cell_type": "code",
   "execution_count": 15,
   "metadata": {},
   "outputs": [
    {
     "name": "stdout",
     "output_type": "stream",
     "text": [
      "0.007937489587487821\n",
      "0.03738030781571164\n"
     ]
    }
   ],
   "source": [
    "print(cer_metric.compute(predictions=results_a_t['pred_py'], references=results_a_t['gt']))\n",
    "print(wer_metric.compute(predictions=results_a_t['pred_py'], references=results_a_t['gt']))"
   ]
  },
  {
   "cell_type": "code",
   "execution_count": 16,
   "metadata": {},
   "outputs": [],
   "source": [
    "def rm_tones(py):\n",
    "    return [' '.join([pp[:-1] for pp in p.split(' ')]) for p in py]"
   ]
  },
  {
   "cell_type": "code",
   "execution_count": 17,
   "metadata": {},
   "outputs": [
    {
     "name": "stdout",
     "output_type": "stream",
     "text": [
      "0.0007617662863103328\n",
      "0.001973981049781922\n"
     ]
    }
   ],
   "source": [
    "print(cer_metric.compute(predictions=rm_tones(results_a_t['pred_py']), references=rm_tones(results_a_t['gt'])))\n",
    "print(wer_metric.compute(predictions=rm_tones(results_a_t['pred_py']), references=rm_tones(results_a_t['gt'])))"
   ]
  },
  {
   "cell_type": "code",
   "execution_count": 18,
   "metadata": {},
   "outputs": [
    {
     "name": "stdout",
     "output_type": "stream",
     "text": [
      "0.015173238960212844\n",
      "0.06834987717451246\n"
     ]
    }
   ],
   "source": [
    "print(cer_metric.compute(predictions=results_a_t['pypy'], references=results_a_t['gt']))\n",
    "print(wer_metric.compute(predictions=results_a_t['pypy'], references=results_a_t['gt']))"
   ]
  },
  {
   "cell_type": "code",
   "execution_count": 19,
   "metadata": {},
   "outputs": [
    {
     "name": "stdout",
     "output_type": "stream",
     "text": [
      "0.0022473685874134716\n",
      "0.005696345315084975\n"
     ]
    }
   ],
   "source": [
    "print(cer_metric.compute(predictions=rm_tones(results_a_t['pypy']), references=rm_tones(results_a_t['gt'])))\n",
    "print(wer_metric.compute(predictions=rm_tones(results_a_t['pypy']), references=rm_tones(results_a_t['gt'])))"
   ]
  },
  {
   "cell_type": "code",
   "execution_count": null,
   "metadata": {},
   "outputs": [],
   "source": []
  }
 ],
 "metadata": {
  "kernelspec": {
   "display_name": "g2pw",
   "language": "python",
   "name": "python3"
  },
  "language_info": {
   "codemirror_mode": {
    "name": "ipython",
    "version": 3
   },
   "file_extension": ".py",
   "mimetype": "text/x-python",
   "name": "python",
   "nbconvert_exporter": "python",
   "pygments_lexer": "ipython3",
   "version": "3.10.14"
  }
 },
 "nbformat": 4,
 "nbformat_minor": 2
}
